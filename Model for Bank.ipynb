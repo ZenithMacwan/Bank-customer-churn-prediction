{
 "cells": [
  {
   "cell_type": "code",
   "execution_count": 24,
   "id": "12878537",
   "metadata": {},
   "outputs": [],
   "source": [
    "#importing libraries\n",
    "import pandas as pd\n",
    "import numpy as np\n",
    "import matplotlib.pyplot as plt\n",
    "import seaborn as sns\n",
    "%matplotlib inline"
   ]
  },
  {
   "cell_type": "code",
   "execution_count": 25,
   "id": "f65a1537",
   "metadata": {},
   "outputs": [],
   "source": [
    "#split test train\n",
    "df_test = pd.read_csv('./customer_churn_dataset-testing-master.csv')\n",
    "df_train = pd.read_csv('./customer_churn_dataset-training-master.csv')"
   ]
  },
  {
   "cell_type": "code",
   "execution_count": 26,
   "id": "6bc0946f",
   "metadata": {},
   "outputs": [
    {
     "data": {
      "text/html": [
       "<div>\n",
       "<style scoped>\n",
       "    .dataframe tbody tr th:only-of-type {\n",
       "        vertical-align: middle;\n",
       "    }\n",
       "\n",
       "    .dataframe tbody tr th {\n",
       "        vertical-align: top;\n",
       "    }\n",
       "\n",
       "    .dataframe thead th {\n",
       "        text-align: right;\n",
       "    }\n",
       "</style>\n",
       "<table border=\"1\" class=\"dataframe\">\n",
       "  <thead>\n",
       "    <tr style=\"text-align: right;\">\n",
       "      <th></th>\n",
       "      <th>CustomerID</th>\n",
       "      <th>Age</th>\n",
       "      <th>Gender</th>\n",
       "      <th>Tenure</th>\n",
       "      <th>Usage Frequency</th>\n",
       "      <th>Support Calls</th>\n",
       "      <th>Payment Delay</th>\n",
       "      <th>Subscription Type</th>\n",
       "      <th>Contract Length</th>\n",
       "      <th>Total Spend</th>\n",
       "      <th>Last Interaction</th>\n",
       "      <th>Churn</th>\n",
       "    </tr>\n",
       "  </thead>\n",
       "  <tbody>\n",
       "    <tr>\n",
       "      <th>0</th>\n",
       "      <td>1</td>\n",
       "      <td>22</td>\n",
       "      <td>Female</td>\n",
       "      <td>25</td>\n",
       "      <td>14</td>\n",
       "      <td>4</td>\n",
       "      <td>27</td>\n",
       "      <td>Basic</td>\n",
       "      <td>Monthly</td>\n",
       "      <td>598</td>\n",
       "      <td>9</td>\n",
       "      <td>1</td>\n",
       "    </tr>\n",
       "    <tr>\n",
       "      <th>1</th>\n",
       "      <td>2</td>\n",
       "      <td>41</td>\n",
       "      <td>Female</td>\n",
       "      <td>28</td>\n",
       "      <td>28</td>\n",
       "      <td>7</td>\n",
       "      <td>13</td>\n",
       "      <td>Standard</td>\n",
       "      <td>Monthly</td>\n",
       "      <td>584</td>\n",
       "      <td>20</td>\n",
       "      <td>0</td>\n",
       "    </tr>\n",
       "    <tr>\n",
       "      <th>2</th>\n",
       "      <td>3</td>\n",
       "      <td>47</td>\n",
       "      <td>Male</td>\n",
       "      <td>27</td>\n",
       "      <td>10</td>\n",
       "      <td>2</td>\n",
       "      <td>29</td>\n",
       "      <td>Premium</td>\n",
       "      <td>Annual</td>\n",
       "      <td>757</td>\n",
       "      <td>21</td>\n",
       "      <td>0</td>\n",
       "    </tr>\n",
       "    <tr>\n",
       "      <th>3</th>\n",
       "      <td>4</td>\n",
       "      <td>35</td>\n",
       "      <td>Male</td>\n",
       "      <td>9</td>\n",
       "      <td>12</td>\n",
       "      <td>5</td>\n",
       "      <td>17</td>\n",
       "      <td>Premium</td>\n",
       "      <td>Quarterly</td>\n",
       "      <td>232</td>\n",
       "      <td>18</td>\n",
       "      <td>0</td>\n",
       "    </tr>\n",
       "    <tr>\n",
       "      <th>4</th>\n",
       "      <td>5</td>\n",
       "      <td>53</td>\n",
       "      <td>Female</td>\n",
       "      <td>58</td>\n",
       "      <td>24</td>\n",
       "      <td>9</td>\n",
       "      <td>2</td>\n",
       "      <td>Standard</td>\n",
       "      <td>Annual</td>\n",
       "      <td>533</td>\n",
       "      <td>18</td>\n",
       "      <td>0</td>\n",
       "    </tr>\n",
       "    <tr>\n",
       "      <th>5</th>\n",
       "      <td>6</td>\n",
       "      <td>30</td>\n",
       "      <td>Male</td>\n",
       "      <td>41</td>\n",
       "      <td>14</td>\n",
       "      <td>10</td>\n",
       "      <td>10</td>\n",
       "      <td>Premium</td>\n",
       "      <td>Monthly</td>\n",
       "      <td>500</td>\n",
       "      <td>29</td>\n",
       "      <td>0</td>\n",
       "    </tr>\n",
       "    <tr>\n",
       "      <th>6</th>\n",
       "      <td>7</td>\n",
       "      <td>47</td>\n",
       "      <td>Female</td>\n",
       "      <td>37</td>\n",
       "      <td>15</td>\n",
       "      <td>9</td>\n",
       "      <td>28</td>\n",
       "      <td>Basic</td>\n",
       "      <td>Quarterly</td>\n",
       "      <td>574</td>\n",
       "      <td>14</td>\n",
       "      <td>1</td>\n",
       "    </tr>\n",
       "    <tr>\n",
       "      <th>7</th>\n",
       "      <td>8</td>\n",
       "      <td>54</td>\n",
       "      <td>Female</td>\n",
       "      <td>36</td>\n",
       "      <td>11</td>\n",
       "      <td>0</td>\n",
       "      <td>18</td>\n",
       "      <td>Standard</td>\n",
       "      <td>Monthly</td>\n",
       "      <td>323</td>\n",
       "      <td>16</td>\n",
       "      <td>0</td>\n",
       "    </tr>\n",
       "    <tr>\n",
       "      <th>8</th>\n",
       "      <td>9</td>\n",
       "      <td>36</td>\n",
       "      <td>Male</td>\n",
       "      <td>20</td>\n",
       "      <td>5</td>\n",
       "      <td>10</td>\n",
       "      <td>8</td>\n",
       "      <td>Basic</td>\n",
       "      <td>Monthly</td>\n",
       "      <td>687</td>\n",
       "      <td>8</td>\n",
       "      <td>0</td>\n",
       "    </tr>\n",
       "    <tr>\n",
       "      <th>9</th>\n",
       "      <td>10</td>\n",
       "      <td>65</td>\n",
       "      <td>Male</td>\n",
       "      <td>8</td>\n",
       "      <td>4</td>\n",
       "      <td>2</td>\n",
       "      <td>23</td>\n",
       "      <td>Basic</td>\n",
       "      <td>Annual</td>\n",
       "      <td>995</td>\n",
       "      <td>10</td>\n",
       "      <td>0</td>\n",
       "    </tr>\n",
       "  </tbody>\n",
       "</table>\n",
       "</div>"
      ],
      "text/plain": [
       "   CustomerID  Age  Gender  Tenure  Usage Frequency  Support Calls  \\\n",
       "0           1   22  Female      25               14              4   \n",
       "1           2   41  Female      28               28              7   \n",
       "2           3   47    Male      27               10              2   \n",
       "3           4   35    Male       9               12              5   \n",
       "4           5   53  Female      58               24              9   \n",
       "5           6   30    Male      41               14             10   \n",
       "6           7   47  Female      37               15              9   \n",
       "7           8   54  Female      36               11              0   \n",
       "8           9   36    Male      20                5             10   \n",
       "9          10   65    Male       8                4              2   \n",
       "\n",
       "   Payment Delay Subscription Type Contract Length  Total Spend  \\\n",
       "0             27             Basic         Monthly          598   \n",
       "1             13          Standard         Monthly          584   \n",
       "2             29           Premium          Annual          757   \n",
       "3             17           Premium       Quarterly          232   \n",
       "4              2          Standard          Annual          533   \n",
       "5             10           Premium         Monthly          500   \n",
       "6             28             Basic       Quarterly          574   \n",
       "7             18          Standard         Monthly          323   \n",
       "8              8             Basic         Monthly          687   \n",
       "9             23             Basic          Annual          995   \n",
       "\n",
       "   Last Interaction  Churn  \n",
       "0                 9      1  \n",
       "1                20      0  \n",
       "2                21      0  \n",
       "3                18      0  \n",
       "4                18      0  \n",
       "5                29      0  \n",
       "6                14      1  \n",
       "7                16      0  \n",
       "8                 8      0  \n",
       "9                10      0  "
      ]
     },
     "execution_count": 26,
     "metadata": {},
     "output_type": "execute_result"
    }
   ],
   "source": [
    "df_test.head(10)\n"
   ]
  },
  {
   "cell_type": "code",
   "execution_count": 27,
   "id": "e26d2b0d",
   "metadata": {},
   "outputs": [
    {
     "data": {
      "text/html": [
       "<div>\n",
       "<style scoped>\n",
       "    .dataframe tbody tr th:only-of-type {\n",
       "        vertical-align: middle;\n",
       "    }\n",
       "\n",
       "    .dataframe tbody tr th {\n",
       "        vertical-align: top;\n",
       "    }\n",
       "\n",
       "    .dataframe thead th {\n",
       "        text-align: right;\n",
       "    }\n",
       "</style>\n",
       "<table border=\"1\" class=\"dataframe\">\n",
       "  <thead>\n",
       "    <tr style=\"text-align: right;\">\n",
       "      <th></th>\n",
       "      <th>CustomerID</th>\n",
       "      <th>Age</th>\n",
       "      <th>Gender</th>\n",
       "      <th>Tenure</th>\n",
       "      <th>Usage Frequency</th>\n",
       "      <th>Support Calls</th>\n",
       "      <th>Payment Delay</th>\n",
       "      <th>Subscription Type</th>\n",
       "      <th>Contract Length</th>\n",
       "      <th>Total Spend</th>\n",
       "      <th>Last Interaction</th>\n",
       "      <th>Churn</th>\n",
       "    </tr>\n",
       "  </thead>\n",
       "  <tbody>\n",
       "    <tr>\n",
       "      <th>0</th>\n",
       "      <td>2.0</td>\n",
       "      <td>30.0</td>\n",
       "      <td>Female</td>\n",
       "      <td>39.0</td>\n",
       "      <td>14.0</td>\n",
       "      <td>5.0</td>\n",
       "      <td>18.0</td>\n",
       "      <td>Standard</td>\n",
       "      <td>Annual</td>\n",
       "      <td>932.0</td>\n",
       "      <td>17.0</td>\n",
       "      <td>1.0</td>\n",
       "    </tr>\n",
       "    <tr>\n",
       "      <th>1</th>\n",
       "      <td>3.0</td>\n",
       "      <td>65.0</td>\n",
       "      <td>Female</td>\n",
       "      <td>49.0</td>\n",
       "      <td>1.0</td>\n",
       "      <td>10.0</td>\n",
       "      <td>8.0</td>\n",
       "      <td>Basic</td>\n",
       "      <td>Monthly</td>\n",
       "      <td>557.0</td>\n",
       "      <td>6.0</td>\n",
       "      <td>1.0</td>\n",
       "    </tr>\n",
       "    <tr>\n",
       "      <th>2</th>\n",
       "      <td>4.0</td>\n",
       "      <td>55.0</td>\n",
       "      <td>Female</td>\n",
       "      <td>14.0</td>\n",
       "      <td>4.0</td>\n",
       "      <td>6.0</td>\n",
       "      <td>18.0</td>\n",
       "      <td>Basic</td>\n",
       "      <td>Quarterly</td>\n",
       "      <td>185.0</td>\n",
       "      <td>3.0</td>\n",
       "      <td>1.0</td>\n",
       "    </tr>\n",
       "    <tr>\n",
       "      <th>3</th>\n",
       "      <td>5.0</td>\n",
       "      <td>58.0</td>\n",
       "      <td>Male</td>\n",
       "      <td>38.0</td>\n",
       "      <td>21.0</td>\n",
       "      <td>7.0</td>\n",
       "      <td>7.0</td>\n",
       "      <td>Standard</td>\n",
       "      <td>Monthly</td>\n",
       "      <td>396.0</td>\n",
       "      <td>29.0</td>\n",
       "      <td>1.0</td>\n",
       "    </tr>\n",
       "    <tr>\n",
       "      <th>4</th>\n",
       "      <td>6.0</td>\n",
       "      <td>23.0</td>\n",
       "      <td>Male</td>\n",
       "      <td>32.0</td>\n",
       "      <td>20.0</td>\n",
       "      <td>5.0</td>\n",
       "      <td>8.0</td>\n",
       "      <td>Basic</td>\n",
       "      <td>Monthly</td>\n",
       "      <td>617.0</td>\n",
       "      <td>20.0</td>\n",
       "      <td>1.0</td>\n",
       "    </tr>\n",
       "    <tr>\n",
       "      <th>5</th>\n",
       "      <td>8.0</td>\n",
       "      <td>51.0</td>\n",
       "      <td>Male</td>\n",
       "      <td>33.0</td>\n",
       "      <td>25.0</td>\n",
       "      <td>9.0</td>\n",
       "      <td>26.0</td>\n",
       "      <td>Premium</td>\n",
       "      <td>Annual</td>\n",
       "      <td>129.0</td>\n",
       "      <td>8.0</td>\n",
       "      <td>1.0</td>\n",
       "    </tr>\n",
       "    <tr>\n",
       "      <th>6</th>\n",
       "      <td>9.0</td>\n",
       "      <td>58.0</td>\n",
       "      <td>Female</td>\n",
       "      <td>49.0</td>\n",
       "      <td>12.0</td>\n",
       "      <td>3.0</td>\n",
       "      <td>16.0</td>\n",
       "      <td>Standard</td>\n",
       "      <td>Quarterly</td>\n",
       "      <td>821.0</td>\n",
       "      <td>24.0</td>\n",
       "      <td>1.0</td>\n",
       "    </tr>\n",
       "    <tr>\n",
       "      <th>7</th>\n",
       "      <td>10.0</td>\n",
       "      <td>55.0</td>\n",
       "      <td>Female</td>\n",
       "      <td>37.0</td>\n",
       "      <td>8.0</td>\n",
       "      <td>4.0</td>\n",
       "      <td>15.0</td>\n",
       "      <td>Premium</td>\n",
       "      <td>Annual</td>\n",
       "      <td>445.0</td>\n",
       "      <td>30.0</td>\n",
       "      <td>1.0</td>\n",
       "    </tr>\n",
       "    <tr>\n",
       "      <th>8</th>\n",
       "      <td>11.0</td>\n",
       "      <td>39.0</td>\n",
       "      <td>Male</td>\n",
       "      <td>12.0</td>\n",
       "      <td>5.0</td>\n",
       "      <td>7.0</td>\n",
       "      <td>4.0</td>\n",
       "      <td>Standard</td>\n",
       "      <td>Quarterly</td>\n",
       "      <td>969.0</td>\n",
       "      <td>13.0</td>\n",
       "      <td>1.0</td>\n",
       "    </tr>\n",
       "    <tr>\n",
       "      <th>9</th>\n",
       "      <td>12.0</td>\n",
       "      <td>64.0</td>\n",
       "      <td>Female</td>\n",
       "      <td>3.0</td>\n",
       "      <td>25.0</td>\n",
       "      <td>2.0</td>\n",
       "      <td>11.0</td>\n",
       "      <td>Standard</td>\n",
       "      <td>Quarterly</td>\n",
       "      <td>415.0</td>\n",
       "      <td>29.0</td>\n",
       "      <td>1.0</td>\n",
       "    </tr>\n",
       "  </tbody>\n",
       "</table>\n",
       "</div>"
      ],
      "text/plain": [
       "   CustomerID   Age  Gender  Tenure  Usage Frequency  Support Calls  \\\n",
       "0         2.0  30.0  Female    39.0             14.0            5.0   \n",
       "1         3.0  65.0  Female    49.0              1.0           10.0   \n",
       "2         4.0  55.0  Female    14.0              4.0            6.0   \n",
       "3         5.0  58.0    Male    38.0             21.0            7.0   \n",
       "4         6.0  23.0    Male    32.0             20.0            5.0   \n",
       "5         8.0  51.0    Male    33.0             25.0            9.0   \n",
       "6         9.0  58.0  Female    49.0             12.0            3.0   \n",
       "7        10.0  55.0  Female    37.0              8.0            4.0   \n",
       "8        11.0  39.0    Male    12.0              5.0            7.0   \n",
       "9        12.0  64.0  Female     3.0             25.0            2.0   \n",
       "\n",
       "   Payment Delay Subscription Type Contract Length  Total Spend  \\\n",
       "0           18.0          Standard          Annual        932.0   \n",
       "1            8.0             Basic         Monthly        557.0   \n",
       "2           18.0             Basic       Quarterly        185.0   \n",
       "3            7.0          Standard         Monthly        396.0   \n",
       "4            8.0             Basic         Monthly        617.0   \n",
       "5           26.0           Premium          Annual        129.0   \n",
       "6           16.0          Standard       Quarterly        821.0   \n",
       "7           15.0           Premium          Annual        445.0   \n",
       "8            4.0          Standard       Quarterly        969.0   \n",
       "9           11.0          Standard       Quarterly        415.0   \n",
       "\n",
       "   Last Interaction  Churn  \n",
       "0              17.0    1.0  \n",
       "1               6.0    1.0  \n",
       "2               3.0    1.0  \n",
       "3              29.0    1.0  \n",
       "4              20.0    1.0  \n",
       "5               8.0    1.0  \n",
       "6              24.0    1.0  \n",
       "7              30.0    1.0  \n",
       "8              13.0    1.0  \n",
       "9              29.0    1.0  "
      ]
     },
     "execution_count": 27,
     "metadata": {},
     "output_type": "execute_result"
    }
   ],
   "source": [
    "df_train.head(10)"
   ]
  },
  {
   "cell_type": "code",
   "execution_count": 28,
   "id": "8379c585",
   "metadata": {},
   "outputs": [
    {
     "name": "stdout",
     "output_type": "stream",
     "text": [
      "\n",
      "df_train: \n",
      "['Female' 'Male' nan]\n",
      "['Standard' 'Basic' 'Premium' nan]\n",
      "['Annual' 'Monthly' 'Quarterly' nan]\n",
      "NaN values:\n",
      " CustomerID           1\n",
      "Age                  1\n",
      "Gender               1\n",
      "Tenure               1\n",
      "Usage Frequency      1\n",
      "Support Calls        1\n",
      "Payment Delay        1\n",
      "Subscription Type    1\n",
      "Contract Length      1\n",
      "Total Spend          1\n",
      "Last Interaction     1\n",
      "Churn                1\n",
      "dtype: int64\n",
      "\n",
      "df_test: \n",
      "['Female' 'Male']\n",
      "['Basic' 'Standard' 'Premium']\n",
      "['Monthly' 'Annual' 'Quarterly']\n"
     ]
    }
   ],
   "source": [
    "#Data Cleaning\n",
    "temp_cols = ['Gender', 'Subscription Type', 'Contract Length']\n",
    "\n",
    "print('\\ndf_train: ')\n",
    "for col in temp_cols: \n",
    "    if isinstance(col, str):\n",
    "        print(df_train[col].unique())\n",
    "print('NaN values:\\n', df_train.isna().sum())\n",
    "           \n",
    "\n",
    "print('\\ndf_test: ')\n",
    "for col in temp_cols: \n",
    "    if isinstance(col, str):\n",
    "        print(df_test[col].unique())\n"
   ]
  },
  {
   "cell_type": "code",
   "execution_count": 29,
   "id": "aa600fde",
   "metadata": {},
   "outputs": [
    {
     "data": {
      "text/plain": [
       "CustomerID           0\n",
       "Age                  0\n",
       "Gender               0\n",
       "Tenure               0\n",
       "Usage Frequency      0\n",
       "Support Calls        0\n",
       "Payment Delay        0\n",
       "Subscription Type    0\n",
       "Contract Length      0\n",
       "Total Spend          0\n",
       "Last Interaction     0\n",
       "Churn                0\n",
       "dtype: int64"
      ]
     },
     "execution_count": 29,
     "metadata": {},
     "output_type": "execute_result"
    }
   ],
   "source": [
    "df_test.isnull().sum()"
   ]
  },
  {
   "cell_type": "code",
   "execution_count": 30,
   "id": "7bc3167d",
   "metadata": {},
   "outputs": [],
   "source": [
    "df_train = df_train.dropna(axis=0)"
   ]
  },
  {
   "cell_type": "code",
   "execution_count": 31,
   "id": "4a3fa68e",
   "metadata": {},
   "outputs": [
    {
     "data": {
      "text/plain": [
       "CustomerID           0\n",
       "Age                  0\n",
       "Gender               0\n",
       "Tenure               0\n",
       "Usage Frequency      0\n",
       "Support Calls        0\n",
       "Payment Delay        0\n",
       "Subscription Type    0\n",
       "Contract Length      0\n",
       "Total Spend          0\n",
       "Last Interaction     0\n",
       "Churn                0\n",
       "dtype: int64"
      ]
     },
     "execution_count": 31,
     "metadata": {},
     "output_type": "execute_result"
    }
   ],
   "source": [
    "df_train.isnull().sum()"
   ]
  },
  {
   "cell_type": "code",
   "execution_count": 32,
   "id": "ff4b022d",
   "metadata": {},
   "outputs": [
    {
     "data": {
      "text/plain": [
       "(440832, 12)"
      ]
     },
     "execution_count": 32,
     "metadata": {},
     "output_type": "execute_result"
    }
   ],
   "source": [
    "df_train.shape"
   ]
  },
  {
   "cell_type": "code",
   "execution_count": 33,
   "id": "fee2cff9",
   "metadata": {},
   "outputs": [
    {
     "data": {
      "text/plain": [
       "(64374, 12)"
      ]
     },
     "execution_count": 33,
     "metadata": {},
     "output_type": "execute_result"
    }
   ],
   "source": [
    "df_test.shape"
   ]
  },
  {
   "cell_type": "code",
   "execution_count": 34,
   "id": "91375df1",
   "metadata": {},
   "outputs": [
    {
     "name": "stdout",
     "output_type": "stream",
     "text": [
      "Object columns: \n",
      " Index(['Gender', 'Subscription Type', 'Contract Length'], dtype='object')\n",
      "Numeric columns: \n",
      " Index(['CustomerID', 'Age', 'Tenure', 'Usage Frequency', 'Support Calls',\n",
      "       'Payment Delay', 'Total Spend', 'Last Interaction', 'Churn'],\n",
      "      dtype='object')\n"
     ]
    }
   ],
   "source": [
    "# separating columns by type\n",
    "object_cols = df_train.select_dtypes('object').columns\n",
    "numer_cols = df_train.select_dtypes('number').columns\n",
    "\n",
    "print('Object columns: \\n', object_cols)\n",
    "print('Numeric columns: \\n', numer_cols)\n",
    "\n",
    "# Convert float columns into int\n",
    "df_train_numeric = df_train[numer_cols].astype(int).copy()\n",
    "df_train_str = df_train[object_cols].copy()\n",
    "\n",
    "df_train = pd.concat([df_train_str, df_train_numeric], axis=1)\n"
   ]
  },
  {
   "cell_type": "code",
   "execution_count": 35,
   "id": "b2992471",
   "metadata": {
    "scrolled": true
   },
   "outputs": [],
   "source": [
    "from sklearn.preprocessing import MinMaxScaler\n",
    "sc = MinMaxScaler()\n",
    "#normalize Numerical Data\n",
    "df_test_num = sc.fit_transform(df_test[numer_cols])\n",
    "df_train_num = sc.fit_transform(df_train[numer_cols])\n",
    "\n",
    "df_test_num = pd.DataFrame(df_test_num,columns=numer_cols)\n",
    "df_train_num = pd.DataFrame(df_train_num,columns=numer_cols)\n",
    "\n",
    "#Normalize Categorical data\n",
    "df_test_cat = pd.get_dummies(df_test[object_cols], columns=object_cols)\n",
    "df_train_cat = pd.get_dummies(df_train[object_cols], columns=object_cols)\n",
    "\n",
    "# now we have Gender Male and Gender Female columns, we should drop one\n",
    "df_test_cat = df_test_cat.drop('Gender_Female', axis=1)\n",
    "df_train_cat = df_train_cat.drop('Gender_Female', axis=1)\n",
    "\n",
    "df_test_cat.rename(columns={'Gender_Male': 'Gender'}, inplace=True)\n",
    "df_train_cat.rename(columns={'Gender_Male': 'Gender'}, inplace=True)\n",
    "\n",
    "## Concat numeric and categorical data\n",
    "df_test_norm = pd.concat([df_test_cat, df_test_num], axis = 1)\n",
    "df_train_norm = pd.concat([df_train_cat, df_train_num], axis = 1)\n",
    "\n",
    "df_train_norm = df_train_norm.dropna(axis = 0)\n",
    "\n",
    "## Create common normilized df\n",
    "temp_test = df_test_norm.copy()\n",
    "temp_test['is_test'] = 1\n",
    "\n",
    "temp_train = df_train_norm.copy()\n",
    "temp_train['is_test'] = 0\n",
    "\n",
    "df_norm = pd.concat([temp_train, temp_test], axis = 0)"
   ]
  },
  {
   "cell_type": "code",
   "execution_count": 36,
   "id": "a0c4d79b",
   "metadata": {},
   "outputs": [
    {
     "name": "stdout",
     "output_type": "stream",
     "text": [
      "Object columns: \n",
      " Index([], dtype='object')\n",
      "Numeric columns: \n",
      " Index(['Gender', 'Subscription Type_Basic', 'Subscription Type_Premium',\n",
      "       'Subscription Type_Standard', 'Contract Length_Annual',\n",
      "       'Contract Length_Monthly', 'Contract Length_Quarterly', 'CustomerID',\n",
      "       'Age', 'Tenure', 'Usage Frequency', 'Support Calls', 'Payment Delay',\n",
      "       'Total Spend', 'Last Interaction', 'Churn'],\n",
      "      dtype='object')\n"
     ]
    }
   ],
   "source": [
    "# separating columns by type\n",
    "object_cols = df_test_norm.select_dtypes('object').columns\n",
    "numer_cols = df_test_norm.select_dtypes('number').columns\n",
    "\n",
    "print('Object columns: \\n', object_cols)\n",
    "print('Numeric columns: \\n', numer_cols)\n",
    "\n",
    "# Convert float columns into int\n",
    "df_test_numeric = df_test_norm[numer_cols].astype(float).copy()\n",
    "df_test_str = df_test_norm[object_cols].copy()\n",
    "\n",
    "df_test_norm = pd.concat([df_test_str, df_test_numeric], axis=1)\n"
   ]
  },
  {
   "cell_type": "code",
   "execution_count": 37,
   "id": "25213dc1",
   "metadata": {},
   "outputs": [
    {
     "data": {
      "text/plain": [
       "<AxesSubplot:>"
      ]
     },
     "execution_count": 37,
     "metadata": {},
     "output_type": "execute_result"
    },
    {
     "data": {
      "image/png": "[encoded data removed]",
      "text/plain": [
       "<Figure size 1008x1008 with 2 Axes>"
      ]
     },
     "metadata": {
      "needs_background": "light"
     },
     "output_type": "display_data"
    }
   ],
   "source": [
    "def correlation(dataset,threshold):\n",
    "    col_corr = set()\n",
    "    corr_matrix = dataset.corr()\n",
    "    for i in range(len(corr_matrix.columns)):\n",
    "        for j in range(i):\n",
    "            if abs(corr_matrix.iloc[i,j]) > threshold:\n",
    "                colname = corr_matrix.columns[i]\n",
    "                col_corr.add(colname)\n",
    "    return col_corr\n",
    "plt.figure(figsize=(14,14))\n",
    "sns.heatmap(df_train_norm.corr(),annot=True)"
   ]
  },
  {
   "cell_type": "code",
   "execution_count": 38,
   "id": "3fbe1cfc",
   "metadata": {},
   "outputs": [
    {
     "data": {
      "text/plain": [
       "{'Churn'}"
      ]
     },
     "execution_count": 38,
     "metadata": {},
     "output_type": "execute_result"
    }
   ],
   "source": [
    "cor_var = correlation(df_train_num,0.8)\n",
    "cor_var"
   ]
  },
  {
   "cell_type": "markdown",
   "id": "58e7db15",
   "metadata": {},
   "source": []
  },
  {
   "cell_type": "markdown",
   "id": "44586339",
   "metadata": {},
   "source": [
    "# Data Splitting"
   ]
  },
  {
   "cell_type": "code",
   "execution_count": 39,
   "id": "8a5a470a",
   "metadata": {},
   "outputs": [],
   "source": [
    "x_train = df_train_norm.drop(['Churn','CustomerID'], axis = 1 )\n",
    "y_train = df_train_norm['Churn']\n",
    "x_test = df_test_norm.drop(['Churn','CustomerID'],axis = 1)\n",
    "y_test = df_test_norm['Churn']"
   ]
  },
  {
   "cell_type": "markdown",
   "id": "0ab64a40",
   "metadata": {},
   "source": [
    "# Modelling "
   ]
  },
  {
   "cell_type": "code",
   "execution_count": 40,
   "id": "19e0f7e1",
   "metadata": {},
   "outputs": [],
   "source": [
    "from sklearn.linear_model import LogisticRegression\n",
    "from sklearn.metrics import classification_report"
   ]
  },
  {
   "cell_type": "code",
   "execution_count": 41,
   "id": "5ccf2759",
   "metadata": {},
   "outputs": [
    {
     "name": "stdout",
     "output_type": "stream",
     "text": [
      "              precision    recall  f1-score   support\n",
      "\n",
      "         0.0       0.96      0.20      0.33     33881\n",
      "         1.0       0.53      0.99      0.69     30493\n",
      "\n",
      "    accuracy                           0.57     64374\n",
      "   macro avg       0.74      0.59      0.51     64374\n",
      "weighted avg       0.76      0.57      0.50     64374\n",
      "\n"
     ]
    }
   ],
   "source": [
    "#create model\n",
    "base_model = LogisticRegression()\n",
    "base_model.fit(x_train,y_train)\n",
    "y_pred = base_model.predict(x_test)\n",
    "report = classification_report(y_test, y_pred)\n",
    "print(report)"
   ]
  },
  {
   "cell_type": "code",
   "execution_count": 42,
   "id": "48c0e919",
   "metadata": {},
   "outputs": [
    {
     "data": {
      "text/plain": [
       "LogisticRegression()"
      ]
     },
     "execution_count": 42,
     "metadata": {},
     "output_type": "execute_result"
    }
   ],
   "source": [
    "from sklearn.feature_selection import RFE\n",
    "rfe = RFE(estimator=base_model, n_features_to_select=7)\n",
    "X_selected = rfe.fit_transform(x_train, y_train)\n",
    "\n",
    "# Get the selected feature indices\n",
    "selected_feature_indices = rfe.get_support(indices=True)\n",
    "\n",
    "# Get the selected feature names\n",
    "selected_feature_names = x_train.columns[selected_feature_indices]\n",
    "\n",
    "# Fit the model using selected features\n",
    "base_model.fit(X_selected, y_train)\n",
    "\n"
   ]
  },
  {
   "cell_type": "code",
   "execution_count": 43,
   "id": "16d349ba",
   "metadata": {},
   "outputs": [
    {
     "name": "stdout",
     "output_type": "stream",
     "text": [
      "              precision    recall  f1-score   support\n",
      "\n",
      "         0.0       0.96      0.20      0.34     33881\n",
      "         1.0       0.53      0.99      0.69     30493\n",
      "\n",
      "    accuracy                           0.58     64374\n",
      "   macro avg       0.74      0.60      0.51     64374\n",
      "weighted avg       0.75      0.58      0.50     64374\n",
      "\n"
     ]
    }
   ],
   "source": [
    "X_test_selected = rfe.transform(x_test)\n",
    "\n",
    "y_pred = base_model.predict(X_test_selected)\n",
    "print(classification_report(y_test,y_pred))"
   ]
  },
  {
   "cell_type": "code",
   "execution_count": null,
   "id": "0fbc17d8",
   "metadata": {},
   "outputs": [],
   "source": []
  },
  {
   "cell_type": "code",
   "execution_count": null,
   "id": "e6d71a1e",
   "metadata": {},
   "outputs": [],
   "source": []
  },
  {
   "cell_type": "code",
   "execution_count": null,
   "id": "bf4d05e1",
   "metadata": {},
   "outputs": [],
   "source": []
  },
  {
   "cell_type": "markdown",
   "id": "ea5b283f",
   "metadata": {},
   "source": [
    "# Refining Model(Feature Selection)"
   ]
  },
  {
   "cell_type": "code",
   "execution_count": 46,
   "id": "effaec85",
   "metadata": {},
   "outputs": [
    {
     "name": "stdout",
     "output_type": "stream",
     "text": [
      "              precision    recall  f1-score   support\n",
      "\n",
      "         0.0       0.96      0.20      0.34     33881\n",
      "         1.0       0.53      0.99      0.69     30493\n",
      "\n",
      "    accuracy                           0.58     64374\n",
      "   macro avg       0.74      0.60      0.51     64374\n",
      "weighted avg       0.75      0.58      0.50     64374\n",
      "\n"
     ]
    }
   ],
   "source": [
    "x_train2 = df_train_norm[['Contract Length_Monthly','Contract Length_Quarterly','Support Calls','Payment Delay','Total Spend','Age']]\n",
    "x_test2 = df_test_norm[['Contract Length_Monthly','Contract Length_Quarterly', 'Support Calls', 'Payment Delay', 'Total Spend','Age']]\n",
    "refined_model = LogisticRegression(C =1.0, penalty = 'none')\n",
    "refined_model.fit(x_train2,y_train)\n",
    "y_pred3 = refined_model.predict(x_test2)\n",
    "\n",
    "# Evaluate the model\n",
    "report = classification_report(y_test, y_pred3)\n",
    "print(report)\n"
   ]
  },
  {
   "cell_type": "code",
   "execution_count": 47,
   "id": "78ca7a87",
   "metadata": {},
   "outputs": [
    {
     "name": "stdout",
     "output_type": "stream",
     "text": [
      "best hyperparameters:  LogisticRegression(C=10, class_weight='balanced', solver='saga')\n",
      "              precision    recall  f1-score   support\n",
      "\n",
      "         0.0       0.95      0.23      0.37     33881\n",
      "         1.0       0.53      0.99      0.69     30493\n",
      "\n",
      "    accuracy                           0.59     64374\n",
      "   macro avg       0.74      0.61      0.53     64374\n",
      "weighted avg       0.75      0.59      0.52     64374\n",
      "\n"
     ]
    }
   ],
   "source": [
    "from sklearn.model_selection import GridSearchCV\n",
    "from sklearn.model_selection import RandomizedSearchCV\n",
    "\n",
    "param = {'penalty': ['l1', 'l2'],\n",
    "    'C': [0.1, 1, 10],\n",
    "    'solver': ['liblinear', 'saga'],\n",
    "    'max_iter': [100, 200, 500],\n",
    "    'class_weight': [None, 'balanced']}\n",
    "\n",
    "random_search = RandomizedSearchCV(base_model, param, cv=5)\n",
    "random_search.fit(x_train2, y_train)\n",
    "print(\"best hyperparameters: \", random_search.best_estimator_)\n",
    "\n",
    "best_model = random_search.best_estimator_\n",
    "\n",
    "# Make predictions on the test set using the best model\n",
    "y_pred = best_model.predict(x_test2)\n",
    "\n",
    "# Evaluate the model\n",
    "report = classification_report(y_test, y_pred)\n",
    "print(report)\n"
   ]
  },
  {
   "cell_type": "code",
   "execution_count": 48,
   "id": "4b1f5cbb",
   "metadata": {},
   "outputs": [
    {
     "data": {
      "text/plain": [
       "Index(['Gender', 'Subscription Type_Basic', 'Subscription Type_Premium',\n",
       "       'Subscription Type_Standard', 'Contract Length_Annual',\n",
       "       'Contract Length_Monthly', 'Contract Length_Quarterly', 'Age', 'Tenure',\n",
       "       'Usage Frequency', 'Support Calls', 'Payment Delay', 'Total Spend',\n",
       "       'Last Interaction'],\n",
       "      dtype='object')"
      ]
     },
     "execution_count": 48,
     "metadata": {},
     "output_type": "execute_result"
    }
   ],
   "source": [
    "x_train.columns"
   ]
  },
  {
   "cell_type": "code",
   "execution_count": 49,
   "id": "6400dc34",
   "metadata": {},
   "outputs": [
    {
     "name": "stdout",
     "output_type": "stream",
     "text": [
      "              precision    recall  f1-score   support\n",
      "\n",
      "         0.0       0.86      0.34      0.48     33881\n",
      "         1.0       0.56      0.94      0.70     30493\n",
      "\n",
      "    accuracy                           0.62     64374\n",
      "   macro avg       0.71      0.64      0.59     64374\n",
      "weighted avg       0.72      0.62      0.59     64374\n",
      "\n"
     ]
    }
   ],
   "source": [
    "from sklearn.neighbors import KNeighborsClassifier\n",
    "from sklearn.ensemble import RandomForestClassifier\n",
    "from sklearn.naive_bayes import GaussianNB\n",
    "\n",
    "# Define the parameter distribution\n",
    "\n",
    "# Create the k-NN classifier\n",
    "rnn = GaussianNB()\n",
    "rnn.fit(x_train2,y_train)\n",
    "# Fit the model with the best hyperparameters\n",
    "y_pred4 = rnn.predict(x_test2)\n",
    "\n",
    "# Evaluate the model\n",
    "report = classification_report(y_test, y_pred4)\n",
    "print(report)"
   ]
  },
  {
   "cell_type": "code",
   "execution_count": 50,
   "id": "7411370a",
   "metadata": {},
   "outputs": [
    {
     "name": "stdout",
     "output_type": "stream",
     "text": [
      "Decision Tree\n",
      "              precision    recall  f1-score   support\n",
      "\n",
      "         0.0       0.97      0.11      0.19     33881\n",
      "         1.0       0.50      1.00      0.67     30493\n",
      "\n",
      "    accuracy                           0.53     64374\n",
      "   macro avg       0.74      0.55      0.43     64374\n",
      "weighted avg       0.75      0.53      0.42     64374\n",
      "\n"
     ]
    }
   ],
   "source": [
    "from sklearn.tree import DecisionTreeClassifier\n",
    "DT = DecisionTreeClassifier(criterion = 'gini', max_depth = 5, min_samples_split = 5, min_samples_leaf = 4)\n",
    "DT.fit(x_train2,y_train)\n",
    "# Fit the model with the best hyperparameters\n",
    "y_pred4 = DT.predict(x_test2)\n",
    "\n",
    "# Evaluate the model\n",
    "report = classification_report(y_test, y_pred4)\n",
    "print('Decision Tree')\n",
    "print(report)"
   ]
  },
  {
   "cell_type": "markdown",
   "id": "f6cd2989",
   "metadata": {},
   "source": [
    "# Decision Tree can be chosen for extreme customer retention and for efficient performance naive bayes model can be used."
   ]
  }
 ],
 "metadata": {
  "celltoolbar": "Raw Cell Format",
  "kernelspec": {
   "display_name": "Python 3 (ipykernel)",
   "language": "python",
   "name": "python3"
  },
  "language_info": {
   "codemirror_mode": {
    "name": "ipython",
    "version": 3
   },
   "file_extension": ".py",
   "mimetype": "text/x-python",
   "name": "python",
   "nbconvert_exporter": "python",
   "pygments_lexer": "ipython3",
   "version": "3.9.12"
  }
 },
 "nbformat": 4,
 "nbformat_minor": 5
}
